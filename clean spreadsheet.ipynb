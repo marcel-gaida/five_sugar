{
 "cells": [
  {
   "cell_type": "code",
   "execution_count": 1,
   "metadata": {
    "collapsed": true,
    "ExecuteTime": {
     "start_time": "2023-04-10T16:40:44.295185Z",
     "end_time": "2023-04-10T16:40:49.828974Z"
    }
   },
   "outputs": [
    {
     "name": "stderr",
     "output_type": "stream",
     "text": [
      "C:\\Users\\marce\\AppData\\Local\\Temp\\ipykernel_32404\\1372490901.py:7: FutureWarning: The default value of regex will change from True to False in a future version.\n",
      "  df['text'] = df['text'].str.replace('[^a-zA-Z0-9\\s]', '')\n",
      "C:\\Users\\marce\\AppData\\Local\\Temp\\ipykernel_32404\\1372490901.py:8: FutureWarning: The default value of regex will change from True to False in a future version.\n",
      "  df['text'] = df['text'].str.replace('[\\(\\[]oc[\\)\\]]', '')\n"
     ]
    }
   ],
   "source": [
    "import pandas as pd\n",
    "\n",
    "# Open Excel file and read data into DataFrame\n",
    "df = pd.read_excel('reddit_export_dataisbeautiful_forcleaning.xlsx')\n",
    "\n",
    "# Remove special characters and [oc] or (oc) from \"text\" column\n",
    "df['text'] = df['text'].str.replace('[^a-zA-Z0-9\\s]', '')\n",
    "df['text'] = df['text'].str.replace('[\\(\\[]oc[\\)\\]]', '')\n",
    "\n",
    "# Save cleaned DataFrame to new Excel file\n",
    "df.to_excel('cleaned_file.xlsx', index=False)\n"
   ]
  },
  {
   "cell_type": "code",
   "execution_count": null,
   "outputs": [],
   "source": [],
   "metadata": {
    "collapsed": false
   }
  }
 ],
 "metadata": {
  "kernelspec": {
   "display_name": "Python 3",
   "language": "python",
   "name": "python3"
  },
  "language_info": {
   "codemirror_mode": {
    "name": "ipython",
    "version": 2
   },
   "file_extension": ".py",
   "mimetype": "text/x-python",
   "name": "python",
   "nbconvert_exporter": "python",
   "pygments_lexer": "ipython2",
   "version": "2.7.6"
  }
 },
 "nbformat": 4,
 "nbformat_minor": 0
}
