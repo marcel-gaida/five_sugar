{
 "cells": [
  {
   "cell_type": "markdown",
   "source": [
    "Check if a website is available and send a Pushbullet notification.\n",
    "The following script checks if a text is available on a website. If it finds the text it will retry again in a 4 hours. If the text is not available it will send a Pushbullet notification. You will have to register a pushbullet account as well as install the pushbullet app on your phone. You can find the pushbullet app in the app store. You can find the pushbullet api documentation here: https://docs.pushbullet.com/#api-overview."
   ],
   "metadata": {
    "collapsed": false
   }
  },
  {
   "cell_type": "markdown",
   "source": [
    "Test Pushbullet API Access"
   ],
   "metadata": {
    "collapsed": false
   }
  },
  {
   "cell_type": "code",
   "execution_count": null,
   "outputs": [],
   "source": [
    "import requests\n",
    "\n",
    "# Replace <your_access_token_here> with your actual access token\n",
    "# You can find your access token at https://www.pushbullet.com/#settings/account\n",
    "access_token = \"Your Access Token\"\n",
    "url = \"https://api.pushbullet.com/v2/users/me\"\n",
    "headers = {\"Access-Token\": access_token}\n",
    "\n",
    "# Make an HTTP request to the Pushbullet API\n",
    "response = requests.get(url, headers=headers)\n",
    "\n",
    "# Check the response status code\n",
    "if response.status_code == 200:\n",
    "    # Print the response body as JSON\n",
    "    print(response.json())\n",
    "else:\n",
    "    # Print the error message\n",
    "    print(\"Error:\", response.status_code, response.reason)\n"
   ],
   "metadata": {
    "collapsed": false,
    "ExecuteTime": {
     "start_time": "2023-04-25T21:39:39.186735Z",
     "end_time": "2023-04-25T21:39:39.657061Z"
    }
   }
  },
  {
   "cell_type": "markdown",
   "source": [
    "Send a Pushbullet notification if a website contains a certain text. This can be used to check if a registration page is available or not."
   ],
   "metadata": {
    "collapsed": false
   }
  },
  {
   "cell_type": "code",
   "execution_count": null,
   "outputs": [],
   "source": [
    "# Reverse version to check if a website is available\n",
    "\n",
    "import requests\n",
    "import time\n",
    "\n",
    "# URL to check\n",
    "url = \"https://www.content.de/contractor/register\"\n",
    "\n",
    "# Pushbullet notification settings\n",
    "# You can find your access token at https://www.pushbullet.com/#settings/account\n",
    "pushbullet_api_key = \"Your Access Token\"\n",
    "notification_title = \"Website Status Update\"\n",
    "notification_message = \"The registration page is not available\"\n",
    "\n",
    "# Function to send a Pushbullet notification\n",
    "def send_pushbullet_notification(api_key, title, message):\n",
    "    url = \"https://api.pushbullet.com/v2/pushes\"\n",
    "    headers = {\n",
    "        \"Access-Token\": api_key,\n",
    "        \"Content-Type\": \"application/json\"\n",
    "    }\n",
    "    data = {\n",
    "        \"type\": \"note\",\n",
    "        \"title\": title,\n",
    "        \"body\": message\n",
    "    }\n",
    "    response = requests.post(url, headers=headers, json=data)\n",
    "    if response.status_code == 200:\n",
    "        print(\"Pushbullet notification sent.\")\n",
    "    else:\n",
    "        print(\"Error sending Pushbullet notification:\", response.text)\n",
    "\n",
    "# Loop indefinitely\n",
    "while True:\n",
    "    # Make a GET request to the URL\n",
    "    response = requests.get(url)\n",
    "\n",
    "    # Check if the desired text is found in the response\n",
    "    if \"Enter text string you are expecting in a negative event\" in response.text:\n",
    "        # Send a notification to the specified device\n",
    "        send_pushbullet_notification(pushbullet_api_key, notification_title, notification_message)\n",
    "        print(\"Notification sent. Checking again in 1 hour...\")\n",
    "        time.sleep(3600)\n",
    "    else:\n",
    "        # Wait for 5 minutes and check again\n",
    "        print(\"Registration is currently possible. Checking again in 5 minutes...\")\n",
    "        time.sleep(300)\n"
   ],
   "metadata": {
    "collapsed": false,
    "ExecuteTime": {
     "start_time": "2023-04-25T21:42:42.925811Z",
     "end_time": "2023-04-25T21:42:43.500235Z"
    }
   }
  },
  {
   "cell_type": "code",
   "execution_count": null,
   "outputs": [],
   "source": [
    "import requests\n",
    "import time\n",
    "\n",
    "# URL to check\n",
    "url = \"Enter URL here\"\n",
    "\n",
    "# Pushbullet notification settings\n",
    "pushbullet_api_key = \"Your Access Token\"\n",
    "notification_title = \"Website Status Update\"\n",
    "notification_message = \"Registration available\"\n",
    "\n",
    "# Function to send a Pushbullet notification\n",
    "def send_pushbullet_notification(api_key, title, message):\n",
    "    url = \"https://api.pushbullet.com/v2/pushes\"\n",
    "    headers = {\n",
    "        \"Access-Token\": api_key,\n",
    "        \"Content-Type\": \"application/json\"\n",
    "    }\n",
    "    data = {\n",
    "        \"type\": \"note\",\n",
    "        \"title\": title,\n",
    "        \"body\": message\n",
    "    }\n",
    "    response = requests.post(url, headers=headers, json=data)\n",
    "    if response.status_code == 200:\n",
    "        print(\"Pushbullet notification sent.\")\n",
    "    else:\n",
    "        print(\"Error sending Pushbullet notification:\", response.text)\n",
    "\n",
    "# Loop indefinitely\n",
    "while True:\n",
    "    # Make a GET request to the URL\n",
    "    response = requests.get(url)\n",
    "\n",
    "    # Check if the desired text is found in the response\n",
    "    # If the text is found, the registration is not available - example: \"Currently no registration possible\"\n",
    "    if \"Enter text string you are expecting in a negative event\" in response.text:\n",
    "        # Wait for 2 hours and check again\n",
    "        print(\"Registration not available. Checking again in 4 hours...\")\n",
    "        #time in seconds\n",
    "        time.sleep(14400)\n",
    "    else:\n",
    "        # Send a notification that registration is available\n",
    "        send_pushbullet_notification(pushbullet_api_key, notification_title, notification_message)\n",
    "        print(\"Registration available. Checking again in 1 hour...\")\n",
    "        time.sleep(3600)\n"
   ],
   "metadata": {
    "collapsed": false
   }
  }
 ],
 "metadata": {
  "kernelspec": {
   "display_name": "Python 3",
   "language": "python",
   "name": "python3"
  },
  "language_info": {
   "codemirror_mode": {
    "name": "ipython",
    "version": 2
   },
   "file_extension": ".py",
   "mimetype": "text/x-python",
   "name": "python",
   "nbconvert_exporter": "python",
   "pygments_lexer": "ipython2",
   "version": "2.7.6"
  }
 },
 "nbformat": 4,
 "nbformat_minor": 0
}
