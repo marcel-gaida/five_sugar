{
 "cells": [
  {
   "cell_type": "markdown",
   "source": [
    "Load text via pandas from excel into spaCy - change the spaCy model to fit your corpus.\n",
    "See https://spacy.io/models for the models that fit your case."
   ],
   "metadata": {
    "collapsed": false
   }
  },
  {
   "cell_type": "code",
   "execution_count": null,
   "metadata": {
    "collapsed": true,
    "ExecuteTime": {
     "start_time": "2023-04-19T10:14:14.832992Z",
     "end_time": "2023-04-19T10:14:19.201771Z"
    }
   },
   "outputs": [],
   "source": [
    "import pandas as pd\n",
    "import spacy\n",
    "\n",
    "# Load the Excel file into a DataFrame - change the path to your file\n",
    "df = pd.read_excel('NA_remaining.xlsx')\n",
    "\n",
    "# Extract the 'text' column as a list of documents\n",
    "docs = df['text'].tolist()\n",
    "\n",
    "# Load the spaCy model\n",
    "nlp = spacy.load('en_core_web_sm')\n",
    "\n",
    "#Process each document with spaCy\n",
    "for doc in nlp.pipe(docs):\n",
    "#Do something with the processed document\n",
    "    print(doc)\n",
    "\n"
   ]
  },
  {
   "cell_type": "markdown",
   "source": [
    "Loading into BERTopic and ZeroShotClassification"
   ],
   "metadata": {
    "collapsed": false
   }
  },
  {
   "cell_type": "code",
   "execution_count": null,
   "outputs": [],
   "source": [
    "from bertopic.representation import ZeroShotClassification\n",
    "from bertopic import BERTopic\n",
    "\n",
    "# Create your representation model\n",
    "candidate_topics = [\"Movies\", \"USA\", \"Music\", \"Finances\", \"Politics\", \"Education\", \"Sports\", \"Global Warming\",\"Life Expectancy\",\"Military\",\"Economy\",\"Student Loans\",\"Climate Change\",\"Employment\",\"Stockmarket\",\"Accident\",\"Breastfeeding\",\"Population Age\",\"Social Media\",\"Inflation\",\"Medicine\",\"Video Games\",\"Animals\",\"Election\",\"Alcohol Consumption\",\"Cancer\",\"Health\",\"Pandemic\",\"Covid-19\",\"xPost\",\"Youtube\", \"Reddit\", \"Facebook\",\"Apple\",\"Public Transportation\", \"Housing\",\"Airlines\",\"Trading\",\"Electric Vehicles\",\"Religion\",\"News\",\"Crypto\",\"Lifestyle\",\"Population\",\"Food\",\"Refugees\",\"Twitter\",\"Natural Catastrophy\",\"Fertility Rate\",\"Awards\",\"Police\"]\n",
    "representation_model = ZeroShotClassification(candidate_topics, model=\"facebook/bart-large-mnli\")\n",
    "\n",
    "# Use the representation model in BERTopic on top of the default pipeline\n",
    "topic_model = BERTopic(representation_model=representation_model)"
   ],
   "metadata": {
    "collapsed": false,
    "ExecuteTime": {
     "start_time": "2023-04-19T10:14:55.055124Z",
     "end_time": "2023-04-19T10:15:06.804578Z"
    }
   }
  },
  {
   "cell_type": "code",
   "execution_count": null,
   "outputs": [],
   "source": [
    "# Fit the BERTopic model on your documents\n",
    "topics, _ = topic_model.fit_transform(docs)\n",
    "\n",
    "# Get the most frequent topics and their frequency\n",
    "topics, freq = topic_model.get_topic_freq()\n",
    "\n",
    "# Print the topics and their frequency\n",
    "for t, f in zip(topics, freq):\n",
    "    print(f\"Topic {t}: {f} documents\")\n"
   ],
   "metadata": {
    "collapsed": false,
    "ExecuteTime": {
     "start_time": "2023-04-19T10:15:58.729453Z",
     "end_time": "2023-04-19T10:28:14.556087Z"
    }
   }
  },
  {
   "cell_type": "markdown",
   "source": [
    "Visualize the topics"
   ],
   "metadata": {
    "collapsed": false
   }
  },
  {
   "cell_type": "code",
   "execution_count": null,
   "outputs": [],
   "source": [
    "#Barchart visualization of the topics - change the top_n_topics to the number of topics you want to visualize\n",
    "topic_model.visualize_barchart(top_n_topics=100)"
   ],
   "metadata": {
    "collapsed": false,
    "ExecuteTime": {
     "start_time": "2023-04-19T10:28:38.772496Z",
     "end_time": "2023-04-19T10:28:41.728378Z"
    }
   }
  },
  {
   "cell_type": "markdown",
   "source": [
    "Fit the BERTopic model on the Reddit posts and export the topic names into a new Excel file"
   ],
   "metadata": {
    "collapsed": false
   }
  },
  {
   "cell_type": "code",
   "execution_count": null,
   "outputs": [],
   "source": [
    "# Fit the BERTopic model on the Reddit posts\n",
    "topics, _ = topic_model.fit_transform(df[\"text\"])\n",
    "\n",
    "# Map the topics back to the original posts\n",
    "df[\"topic\"] = topics\n",
    "\n",
    "# Export the topic assignments and names to a new Excel file\n",
    "topic_names = [topic_model.get_topic(topic) for topic in topics]\n",
    "df[\"topic_name\"] = topic_names\n",
    "df.to_excel(\"remain_reddit_posts_with_topics.xlsx\", index=False)"
   ],
   "metadata": {
    "collapsed": false,
    "ExecuteTime": {
     "start_time": "2023-04-19T10:37:10.964268Z",
     "end_time": "2023-04-19T10:53:06.507996Z"
    }
   }
  },
  {
   "cell_type": "markdown",
   "source": [
    "Visualize the topics and their distribution as barchart - change top_n_topics to the number of topics you want to visualize\n",
    "You can change the amount of topics you have by using topic_model.get_topic_info().head() and see how many rows are available."
   ],
   "metadata": {
    "collapsed": false
   }
  },
  {
   "cell_type": "code",
   "execution_count": null,
   "outputs": [],
   "source": [
    "topic_model.visualize_barchart(top_n_topics=50)"
   ],
   "metadata": {
    "collapsed": false,
    "ExecuteTime": {
     "start_time": "2023-04-19T12:07:22.384496Z",
     "end_time": "2023-04-19T12:07:23.093195Z"
    }
   }
  },
  {
   "cell_type": "code",
   "execution_count": null,
   "outputs": [],
   "source": [
    "topic_model.get_topic_info().head(220)"
   ],
   "metadata": {
    "collapsed": false,
    "ExecuteTime": {
     "start_time": "2023-04-19T10:29:36.067853Z",
     "end_time": "2023-04-19T10:29:36.158144Z"
    }
   }
  },
  {
   "cell_type": "code",
   "execution_count": null,
   "outputs": [],
   "source": [
    "topic_model.visualize_topics()"
   ],
   "metadata": {
    "collapsed": false,
    "ExecuteTime": {
     "start_time": "2023-04-19T10:30:21.097670Z",
     "end_time": "2023-04-19T10:30:24.814098Z"
    }
   }
  },
  {
   "cell_type": "markdown",
   "source": [
    "Export your visualization to an HTML file - This can pe applied to all visualizations by adjusting the plot variable."
   ],
   "metadata": {
    "collapsed": false
   }
  },
  {
   "cell_type": "code",
   "execution_count": null,
   "outputs": [],
   "source": [
    "topic_model.visualize_topics()\n",
    "\n",
    "# Visualize the topics\n",
    "plot = topic_model.visualize_topics()\n",
    "plot.write_html(\"bertopic_intertopic_map_tensorflow.html\")"
   ],
   "metadata": {
    "collapsed": false,
    "ExecuteTime": {
     "start_time": "2023-04-12T10:40:10.260056Z",
     "end_time": "2023-04-12T10:40:11.938772Z"
    }
   }
  },
  {
   "cell_type": "code",
   "execution_count": null,
   "outputs": [],
   "source": [
    "# Visualize the topics\n",
    "plot = topic_model.visualize_barchart(top_n_topics=80)\n",
    "plot.write_html(\"bertopic_visualization_Tensorflow.html\")\n"
   ],
   "metadata": {
    "collapsed": false,
    "ExecuteTime": {
     "start_time": "2023-04-12T10:40:47.609390Z",
     "end_time": "2023-04-12T10:40:48.235049Z"
    }
   }
  },
  {
   "cell_type": "markdown",
   "source": [
    "Tensorflow - NPL/NLI and export the topics to a new excel file"
   ],
   "metadata": {
    "collapsed": false
   }
  },
  {
   "cell_type": "code",
   "execution_count": null,
   "outputs": [],
   "source": [
    "from bertopic import BERTopic\n",
    "import tensorflow_hub\n",
    "\n",
    "# Load the BERT model trained on MNLI\n",
    "embedding_model = tensorflow_hub.load(\"https://tfhub.dev/google/universal-sentence-encoder-large/5\")\n",
    "\n",
    "\n",
    "# Use the representation model in BERTopic\n",
    "topic_model = BERTopic(representation_model=representation_model)\n",
    "\n",
    "# Fit the BERTopic model on your documents\n",
    "topics, _ = topic_model.fit_transform(docs)\n",
    "\n",
    "# Get the most frequent topics and their frequency\n",
    "topics, freq = topic_model.get_topic_freq()\n",
    "\n",
    "# Print the topics and their frequency\n",
    "for t, f in zip(topics, freq):\n",
    "    print(f\"Topic {t}: {f} documents\")\n",
    "\n",
    "# Initialize BERTopic\n",
    "topic_model = BERTopic()\n",
    "\n",
    "# Fit the BERTopic model on the Reddit posts\n",
    "topics, _ = topic_model.fit_transform(df[\"text\"])\n",
    "\n",
    "# Map the topics back to the original posts\n",
    "df[\"topic\"] = topics\n",
    "\n",
    "# Export the topic assignments and names to a new Excel file\n",
    "topic_names = [topic_model.get_topic(topic) for topic in topics]\n",
    "df[\"topic_name\"] = topic_names\n",
    "df.to_excel(\"reddit_post_NA_Tensorflow2.xlsx\", index=False)\n"
   ],
   "metadata": {
    "collapsed": false,
    "ExecuteTime": {
     "start_time": "2023-04-12T10:49:27.329587Z",
     "end_time": "2023-04-12T10:50:22.970509Z"
    }
   }
  },
  {
   "cell_type": "markdown",
   "source": [
    "Use USE 4"
   ],
   "metadata": {
    "collapsed": false
   }
  },
  {
   "cell_type": "code",
   "execution_count": null,
   "outputs": [],
   "source": [
    "import pandas as pd\n",
    "import tensorflow_hub as hub\n",
    "from bertopic import BERTopic\n",
    "\n",
    "# Load USE model\n",
    "module_url = \"https://tfhub.dev/google/universal-sentence-encoder/4\"\n",
    "model = hub.load(module_url)\n",
    "\n",
    "# Read the excel file containing Reddit posts\n",
    "df = pd.read_excel('NA_remaining.xlsx')\n",
    "\n",
    "# Fit the BERTopic model on the Reddit posts\n",
    "topic_model = BERTopic(language=\"english\", embedding_model=model)\n",
    "topics, _ = topic_model.fit_transform(df[\"text\"])\n",
    "\n",
    "# Map the topics back to the original posts\n",
    "df[\"topic\"] = topics\n",
    "\n",
    "# Export the topic assignments and names to a new Excel file\n",
    "topic_names = [topic_model.get_topic(topic) for topic in topics]\n",
    "df[\"topic_name\"] = topic_names\n",
    "df.to_excel(\"NAreddit_post_topics.xlsx\", index=False)\n"
   ],
   "metadata": {
    "collapsed": false,
    "ExecuteTime": {
     "start_time": "2023-04-13T16:17:59.264800Z",
     "end_time": "2023-04-13T16:18:22.852416Z"
    }
   }
  },
  {
   "cell_type": "markdown",
   "source": [
    "Use Gensim to train an LDA model on the Reddit posts - and visualize the topics - change the df readout to the excel file you want to use"
   ],
   "metadata": {
    "collapsed": false
   }
  },
  {
   "cell_type": "code",
   "execution_count": null,
   "outputs": [],
   "source": [
    "import pandas as pd\n",
    "import gensim\n",
    "from gensim.corpora import Dictionary\n",
    "from gensim.models import LdaModel\n",
    "from gensim.utils import simple_preprocess\n",
    "\n",
    "# Load the Excel file into a pandas dataframe\n",
    "df = pd.read_excel('NA_remaining.xlsx')\n",
    "\n",
    "# Extract the text from the \"title\" column\n",
    "titles = df['text'].tolist()\n",
    "\n",
    "# Preprocess the text\n",
    "texts = [simple_preprocess(title) for title in titles]\n",
    "\n",
    "# Create a dictionary from the preprocessed text\n",
    "dictionary = Dictionary(texts)\n",
    "\n",
    "# Create a document-term matrix\n",
    "corpus = [dictionary.doc2bow(text) for text in texts]\n",
    "\n",
    "# Train an LDA model with 10 topics\n",
    "lda_model = LdaModel(corpus=corpus, id2word=dictionary, num_topics=10)\n",
    "\n",
    "# Print the main topics and their top words\n",
    "for topic_id, topic in lda_model.print_topics(num_topics=5):\n",
    "    print(f'Topic {topic_id}: {topic}')\n"
   ],
   "metadata": {
    "collapsed": false,
    "ExecuteTime": {
     "start_time": "2023-04-19T10:12:20.539329Z",
     "end_time": "2023-04-19T10:12:23.374558Z"
    }
   }
  },
  {
   "cell_type": "code",
   "execution_count": null,
   "outputs": [],
   "source": [
    "import pyLDAvis.gensim_models\n",
    "pyLDAvis.enable_notebook()\n",
    "\n",
    "# Create the pyLDAvis visualization\n",
    "vis = pyLDAvis.gensim_models.prepare(lda_model, corpus, dictionary)\n",
    "\n",
    "# Display the visualization\n"
   ],
   "metadata": {
    "collapsed": false,
    "ExecuteTime": {
     "start_time": "2023-04-19T10:12:30.680405Z",
     "end_time": "2023-04-19T10:12:36.882353Z"
    }
   }
  }
 ],
 "metadata": {
  "kernelspec": {
   "display_name": "Python 3",
   "language": "python",
   "name": "python3"
  },
  "language_info": {
   "codemirror_mode": {
    "name": "ipython",
    "version": 2
   },
   "file_extension": ".py",
   "mimetype": "text/x-python",
   "name": "python",
   "nbconvert_exporter": "python",
   "pygments_lexer": "ipython2",
   "version": "2.7.6"
  }
 },
 "nbformat": 4,
 "nbformat_minor": 0
}
