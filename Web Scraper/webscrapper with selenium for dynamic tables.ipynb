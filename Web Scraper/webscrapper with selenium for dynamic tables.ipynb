{
 "cells": [
  {
   "cell_type": "markdown",
   "source": [
    "# Web Scraping with Selenium"
   ],
   "metadata": {
    "collapsed": false
   }
  },
  {
   "cell_type": "markdown",
   "source": [
    "Define the URL with the data you want to scrape (dynamic tables) and the path to the Chrome driver"
   ],
   "metadata": {
    "collapsed": false
   }
  },
  {
   "cell_type": "code",
   "execution_count": null,
   "outputs": [],
   "source": [
    "pathchrome = 'Insert path to Chrome driver here'\n",
    "url = \"Insert URL here"
   ],
   "metadata": {
    "collapsed": false
   }
  },
  {
   "cell_type": "markdown",
   "source": [
    "Read the URL and Chrome driver path from a config file\n",
    "Unless a file_path is specified, the config file should be in the same folder as the script"
   ],
   "metadata": {
    "collapsed": false
   }
  },
  {
   "cell_type": "code",
   "execution_count": null,
   "outputs": [],
   "source": [
    "def read_parameters(file_path):\n",
    "    parameters = {}\n",
    "    with open(file_path, 'r') as file:\n",
    "        for line in file:\n",
    "            key, value = line.strip().split(' = ')\n",
    "            parameters[key] = value\n",
    "    return parameters\n",
    "\n",
    "config_file_path = 'config.txt'\n",
    "parameters = read_parameters(config_file_path)\n",
    "\n",
    "pathchrome = parameters['pathchrome']\n",
    "url = parameters['url']\n",
    "\n",
    "print(f\"pathchrome: {pathchrome}\")\n",
    "print(f\"url: {url}\")\n"
   ],
   "metadata": {
    "collapsed": false
   }
  },
  {
   "cell_type": "markdown",
   "source": [
    "Start the web driver and navigate to the webpage\n",
    "Attention - The user has to set the filter manually.\n",
    "You will have 30 seconds to do so before the script starts scraping the data.\n",
    "The scrapped data will be saved in an Excel file - change the name of the file if you want to save it under a different name or a different location."
   ],
   "metadata": {
    "collapsed": false
   }
  },
  {
   "cell_type": "code",
   "execution_count": null,
   "outputs": [],
   "source": [
    "from selenium import webdriver\n",
    "from selenium.webdriver.chrome.service import Service\n",
    "from selenium.webdriver.common.by import By\n",
    "from selenium.webdriver.support.ui import WebDriverWait\n",
    "from selenium.webdriver.support import expected_conditions as EC\n",
    "import time\n",
    "import openpyxl\n",
    "\n",
    "# set up the web driver\n",
    "chrome_service = Service(executable_path=pathchrome)\n",
    "driver = webdriver.Chrome(service=chrome_service)\n",
    "\n",
    "# navigate to the webpage\n",
    "driver.get(url)\n",
    "\n",
    "# wait for 30 seconds for the user to set the filter manually\n",
    "time.sleep(30)\n",
    "\n",
    "# wait for the element to load\n",
    "#You need to specify the class name of the table you want to scrape - you can find it in the HTML code of the webpage using the Inspect tool.\n",
    "wait = WebDriverWait(driver, 10)\n",
    "element = wait.until(EC.presence_of_element_located((By.CLASS_NAME, 'ui-grid-row')))\n",
    "\n",
    "# scrape data from all pages\n",
    "all_data = []\n",
    "while True:\n",
    "    # get the data from each row on the current page\n",
    "    rows = driver.find_elements(By.CLASS_NAME, 'ui-grid-row')\n",
    "    for row in rows:\n",
    "        cells = row.find_elements(By.CLASS_NAME, 'ui-grid-cell-contents')\n",
    "        data = [cell.text for cell in cells]\n",
    "        all_data.append(data)\n",
    "\n",
    "    # go to the next page if it exists\n",
    "    try:\n",
    "        next_button = driver.find_element(By.XPATH, '//button[@ng-click=\"vm.goToNextPage()\"]')\n",
    "        if next_button.is_enabled():\n",
    "            next_button.click()\n",
    "            time.sleep(3) # wait for the next page to load\n",
    "        else:\n",
    "            break # no more pages\n",
    "    except:\n",
    "        break # no more pages\n",
    "\n",
    "# close the web driver\n",
    "driver.quit()\n",
    "\n",
    "# write the data to an Excel file\n",
    "wb = openpyxl.Workbook()\n",
    "ws = wb.active\n",
    "for row in all_data:\n",
    "    ws.append(row)\n",
    "wb.save('file_name.xlsx')\n"
   ],
   "metadata": {
    "collapsed": false,
    "pycharm": {
     "is_executing": true
    }
   }
  },
  {
   "cell_type": "code",
   "execution_count": null,
   "outputs": [],
   "source": [],
   "metadata": {
    "collapsed": false
   }
  }
 ],
 "metadata": {
  "kernelspec": {
   "display_name": "Python 3",
   "language": "python",
   "name": "python3"
  },
  "language_info": {
   "codemirror_mode": {
    "name": "ipython",
    "version": 2
   },
   "file_extension": ".py",
   "mimetype": "text/x-python",
   "name": "python",
   "nbconvert_exporter": "python",
   "pygments_lexer": "ipython2",
   "version": "2.7.6"
  }
 },
 "nbformat": 4,
 "nbformat_minor": 0
}
