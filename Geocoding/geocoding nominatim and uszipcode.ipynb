{
 "cells": [
  {
   "cell_type": "markdown",
   "source": [
    "# Geocoding with Geopy\n",
    "Loading the CSV File into a Pandas DataFrame and Geocoding with Geopy and Nominatim.\n",
    "Nominatim is a geocoding service provided by OpenStreetMap. It converts addresses into geographic coordinates and vice versa.\n",
    "Requests are limited to 1 per second, so we can use a sleep function to add a 1-second delay between each request, if a read timeout error occurs the script will retry 3 times before exiting pausing for 30 seconds between each retry."
   ],
   "metadata": {
    "collapsed": false
   }
  },
  {
   "cell_type": "code",
   "execution_count": null,
   "metadata": {},
   "outputs": [],
   "source": [
    "import pandas as pd\n",
    "from geopy.geocoders import Nominatim\n",
    "from geopy.exc import GeocoderUnavailable\n",
    "from requests.exceptions import ReadTimeout\n",
    "\n",
    "def get_coordinates(city_or_county, state):\n",
    "    \"\"\"\n",
    "    Returns the latitude and longitude coordinates of a city or county and its state using geopy.\n",
    "    If the initial geocoding attempt fails, it retries with the \"city or county\" variable as a county.\n",
    "    \"\"\"\n",
    "    address = f\"{city_or_county}, {state}\"\n",
    "    geolocator = Nominatim(user_agent=\"script_geocoding with geopy\")\n",
    "\n",
    "    retries = 0\n",
    "    while retries < 3:\n",
    "        try:\n",
    "            location = geolocator.geocode(address, timeout=10)\n",
    "        except (GeocoderUnavailable, ReadTimeout):\n",
    "            retries += 1\n",
    "            print(f\"Geocoding failed for {address}. Retrying in 10 seconds... ({retries}/3)\")\n",
    "            time.sleep(10)\n",
    "        else:\n",
    "            if location:\n",
    "                return location.latitude, location.longitude\n",
    "            else:\n",
    "                # Retry with the \"city or county\" variable as a county\n",
    "                address = f\"{city_or_county} County, {state}\"\n",
    "                location = geolocator.geocode(address, timeout=10)\n",
    "                if location:\n",
    "                    return location.latitude, location.longitude\n",
    "                else:\n",
    "                    return None, None\n",
    "\n",
    "    raise ReadTimeoutError(\"Exited due to ReadTimeOutError\")\n",
    "\n",
    "# Read the cities and counties from an Excel file\n",
    "cities_df = pd.read_excel(\"Path/to/input.xlsx\", engine='openpyxl')\n",
    "\n",
    "# Add empty 'Latitude' and 'Longitude' columns to the dataframe\n",
    "cities_df['Latitude'] = None\n",
    "cities_df['Longitude'] = None\n",
    "\n",
    "# Loop through the cities and counties, get their coordinates\n",
    "for index, row in cities_df.iterrows():\n",
    "    city_or_county = row['City Or County']\n",
    "    state = row['State']\n",
    "    lat, lng = get_coordinates(city_or_county, state)\n",
    "    cities_df.at[index, 'Latitude'] = lat\n",
    "    cities_df.at[index, 'Longitude'] = lng\n",
    "\n",
    "# Write the updated DataFrame to a CSV file\n",
    "cities_df.to_csv('Path/to/output.csv', index=False)\n"
   ]
  },
  {
   "cell_type": "markdown",
   "source": [
    "## Tryout - Using USZipCode library to get the county from a latitude and longitude"
   ],
   "metadata": {
    "collapsed": false
   }
  },
  {
   "cell_type": "code",
   "execution_count": 2,
   "metadata": {
    "ExecuteTime": {
     "end_time": "2023-05-17T17:44:37.472358200Z",
     "start_time": "2023-05-17T17:44:34.983634800Z"
    }
   },
   "outputs": [
    {
     "name": "stdout",
     "output_type": "stream",
     "text": [
      "San Francisco County\n"
     ]
    }
   ],
   "source": [
    "from uszipcode import SearchEngine\n",
    "\n",
    "# Create a SearchEngine object\n",
    "search = SearchEngine()\n",
    "\n",
    "# Define the latitude and longitude\n",
    "lat = 37.7749\n",
    "lon = -122.4194\n",
    "\n",
    "# Use the by_coordinates method to get the county\n",
    "result = search.by_coordinates(lat=lat, lng=lon, returns=1)\n",
    "county = result[0].county\n",
    "\n",
    "# Print the county\n",
    "print(county)\n",
    "\n",
    "# Close the SearchEngine object\n",
    "search.close()"
   ]
  },
  {
   "cell_type": "markdown",
   "source": [
    "Using USZipCode library to get the county from a latitude and longitude"
   ],
   "metadata": {
    "collapsed": false
   }
  },
  {
   "cell_type": "markdown",
   "source": [
    "# Using the SearchEngine.by_coordinates() Method with a Retry Loop to retrieve the County"
   ],
   "metadata": {
    "collapsed": false
   }
  },
  {
   "cell_type": "code",
   "execution_count": null,
   "metadata": {},
   "outputs": [],
   "source": [
    "import csv\n",
    "import time\n",
    "from uszipcode import SearchEngine\n",
    "from geopy.exc import GeocoderUnavailable\n",
    "from requests.exceptions import ReadTimeoutError\n",
    "\n",
    "# Set the file paths\n",
    "input_file = r\"Path\\to\\input\\file.csv\"\n",
    "output_file = \"Path\\to\\output\\file.csv\"\n",
    "\n",
    "# Create a SearchEngine object\n",
    "search = SearchEngine()\n",
    "\n",
    "# Create a function to get the county from a latitude and longitude\n",
    "def get_county(lat, lon):\n",
    "    retries = 0\n",
    "    while retries < 3:\n",
    "        try:\n",
    "            result = search.by_coordinates(lat=lat, lng=lon, returns=1)\n",
    "            county = result[0].county\n",
    "            return county\n",
    "        except (GeocoderUnavailable, ReadTimeoutError):\n",
    "            print(f\"Attempt {retries+1}: Failed to get county. Retrying after 10 seconds.\")\n",
    "            time.sleep(10)\n",
    "            retries += 1\n",
    "    raise Exception(\"Exited due to ReadTimeOutError\")\n",
    "\n",
    "# Open the CSV file\n",
    "with open(input_file, 'r') as csvfile:\n",
    "    reader = csv.DictReader(csvfile, delimiter=';')\n",
    "\n",
    "    # Create a list to hold the updated rows\n",
    "    updated_rows = []\n",
    "\n",
    "    # Loop through each row in the CSV file\n",
    "    for i, row in enumerate(reader):\n",
    "        if i >= 5:\n",
    "            break\n",
    "        # Get the latitude and longitude from the row\n",
    "        lat = row['Latitude']\n",
    "        lon = row['Longitude']\n",
    "\n",
    "        # Get the county from the latitude and longitude\n",
    "        county = get_county(lat, lon)\n",
    "\n",
    "        # Add the county to the row\n",
    "        row['county'] = county\n",
    "\n",
    "        # Add the updated row to the list\n",
    "        updated_rows.append(row)\n",
    "\n",
    "# Write the updated rows to the original file with the new \"county\" column\n",
    "with open(output_file, 'w', newline='') as csvfile:\n",
    "    fieldnames = updated_rows[0].keys()\n",
    "    writer = csv.DictWriter(csvfile, fieldnames=fieldnames, delimiter=';')\n",
    "\n",
    "    writer.writeheader()\n",
    "    for row in updated_rows:\n",
    "        writer.writerow(row)\n",
    "\n",
    "# Close the SearchEngine object\n",
    "search.close()\n",
    "\n"
   ]
  },
  {
   "cell_type": "code",
   "execution_count": null,
   "metadata": {},
   "outputs": [],
   "source": []
  }
 ],
 "metadata": {
  "kernelspec": {
   "display_name": "Python 3",
   "language": "python",
   "name": "python3"
  },
  "language_info": {
   "codemirror_mode": {
    "name": "ipython",
    "version": 3
   },
   "file_extension": ".py",
   "mimetype": "text/x-python",
   "name": "python",
   "nbconvert_exporter": "python",
   "pygments_lexer": "ipython3",
   "version": "3.10.4"
  },
  "orig_nbformat": 4
 },
 "nbformat": 4,
 "nbformat_minor": 2
}
